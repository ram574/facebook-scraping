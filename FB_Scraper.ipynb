{
 "cells": [
  {
   "cell_type": "markdown",
   "metadata": {},
   "source": [
    "### we need to Download ChromeDriver\n",
    "We need to download latest stable release of ChromeDriver from:\n",
    "https://chromedriver.chromium.org/\n"
   ]
  },
  {
   "cell_type": "code",
   "execution_count": 1,
   "metadata": {},
   "outputs": [],
   "source": [
    "#### we need to install the following packages\n",
    "#### pip install selenium, requests, re, json, time, logging, collections, bs4 (BeautifulSoup),       wget"
   ]
  },
  {
   "cell_type": "code",
   "execution_count": 1,
   "metadata": {},
   "outputs": [],
   "source": [
    "#imports here\n",
    "from selenium import webdriver\n",
    "from selenium.webdriver.common.keys import Keys\n",
    "from selenium.webdriver.support import expected_conditions as EC\n",
    "from selenium.webdriver.common.by import By\n",
    "from selenium.webdriver.support.wait import WebDriverWait\n",
    "import time"
   ]
  },
  {
   "cell_type": "markdown",
   "metadata": {},
   "source": [
    "### Step 1: Disable Alerts/Notifications\n",
    "\n"
   ]
  },
  {
   "cell_type": "code",
   "execution_count": 2,
   "metadata": {},
   "outputs": [],
   "source": [
    "\n",
    "chrome_options = webdriver.ChromeOptions()\n",
    "prefs = {\"profile.default_content_setting_values.notifications\" : 2}\n",
    "chrome_options.add_experimental_option(\"prefs\",prefs)"
   ]
  },
  {
   "cell_type": "markdown",
   "metadata": {},
   "source": [
    "### Step 2: Log into your personal Facebook account\n",
    "MAKE SURE to replace <b><i>my_username</i></b> and <b><i>my_password</i></b> with your own unique values\n"
   ]
  },
  {
   "cell_type": "code",
   "execution_count": 3,
   "metadata": {},
   "outputs": [
    {
     "output_type": "stream",
     "name": "stderr",
     "text": [
      "<ipython-input-3-89e1e664e78c>:2: DeprecationWarning: use options instead of chrome_options\n  driver = webdriver.Chrome('/Users/tulasiramponaganti/Desktop/WebscrapingFacebook-main/chromedriver',chrome_options=chrome_options)\n"
     ]
    }
   ],
   "source": [
    "#specify the path to chromedriver.exe (download and save on your computer)\n",
    "driver = webdriver.Chrome('/Users/tulasiramponaganti/Desktop/WebscrapingFacebook-main/chromedriver',chrome_options=chrome_options)\n",
    "\n",
    "#open the webpage\n",
    "driver.get(\"http://www.facebook.com\")"
   ]
  },
  {
   "cell_type": "code",
   "execution_count": 4,
   "metadata": {},
   "outputs": [],
   "source": [
    "#target username\n",
    "username = WebDriverWait(driver, 10).until(EC.element_to_be_clickable((By.CSS_SELECTOR, \"input[name='email']\")))\n",
    "password = WebDriverWait(driver, 10).until(EC.element_to_be_clickable((By.CSS_SELECTOR, \"input[name='pass']\")))\n",
    "\n",
    "#enter username and password\n",
    "username.clear()\n",
    "username.send_keys(\"tulasi*****@gmail.com\")\n",
    "password.clear()\n",
    "password.send_keys(\"******\")\n",
    "\n",
    "#target the login button and click it\n",
    "button = WebDriverWait(driver, 2).until(EC.element_to_be_clickable((By.CSS_SELECTOR, \"button[type='submit']\"))).click()\n",
    "\n",
    "#We are logged in!"
   ]
  },
  {
   "cell_type": "markdown",
   "metadata": {},
   "source": [
    "### Step 3: Extract All the Photos"
   ]
  },
  {
   "cell_type": "code",
   "execution_count": 7,
   "metadata": {},
   "outputs": [
    {
     "output_type": "stream",
     "name": "stdout",
     "text": [
      "Found 57 links to images\n",
      "I scraped 57 images!\n"
     ]
    }
   ],
   "source": [
    "#wait 5 seconds to allow your new page to load\n",
    "time.sleep(5)\n",
    "images = [] \n",
    "\n",
    "#itterate over both uploaded and tagged images respectively\n",
    "for i in [\"photos_by\"]:\n",
    "    \n",
    "    driver.get(\"https://www.facebook.com/tulasi.ram.56863/\" + i + \"/\")\n",
    "    time.sleep(5)\n",
    "    \n",
    "    #scroll down\n",
    "    #increase the range to sroll more\n",
    "    #example: range(0,10) scrolls down 650+ images\n",
    "    for j in range(0,5):\n",
    "        driver.execute_script(\"window.scrollTo(0, document.body.scrollHeight);\")\n",
    "        time.sleep(10)\n",
    "\n",
    "    #target all the link elements on the page\n",
    "    anchors = driver.find_elements_by_tag_name('a')\n",
    "    anchors = [a.get_attribute('href') for a in anchors]\n",
    "    #narrow down all links to image links only\n",
    "    anchors = [a for a in anchors if str(a).startswith(\"https://www.facebook.com/photo\")]\n",
    "    \n",
    "    print('Found ' + str(len(anchors)) + ' links to images')\n",
    "    \n",
    "    #extract the [1]st image element in each link\n",
    "    for a in anchors:\n",
    "        driver.get(a) #navigate to link\n",
    "        time.sleep(5) #wait a bit\n",
    "        img = driver.find_elements_by_tag_name(\"img\")\n",
    "        images.append(img[1].get_attribute(\"src\")) #may change in future to img[?]\n",
    "\n",
    "print('I scraped '+ str(len(images)) + ' images!')"
   ]
  },
  {
   "cell_type": "markdown",
   "metadata": {},
   "source": [
    "### Make sure you got the right images!\n",
    "\n",
    "Before we move on, please check if the first URL leads to the first image you wanted to scrape. If not, please addust the index of your <b>img</b> variable from 1 to what's currently relevant (in the previous cell)"
   ]
  },
  {
   "cell_type": "code",
   "execution_count": 8,
   "metadata": {},
   "outputs": [
    {
     "output_type": "stream",
     "name": "stdout",
     "text": [
      "['https://www.facebook.com/photo/?fbid=3646703205441584&set=a.730857030359564', 'https://www.facebook.com/photo.php?fbid=3646703205441584&set=pb.100003058220430.-2207520000..&type=3', 'https://www.facebook.com/photo.php?fbid=3645307285581176&set=pb.100003058220430.-2207520000..&type=3', 'https://www.facebook.com/photo.php?fbid=3330814027030505&set=pb.100003058220430.-2207520000..&type=3', 'https://www.facebook.com/photo.php?fbid=3221731437938765&set=pb.100003058220430.-2207520000..&type=3', 'https://www.facebook.com/photo.php?fbid=3216131868498722&set=pb.100003058220430.-2207520000..&type=3', 'https://www.facebook.com/photo.php?fbid=3077251942386716&set=pb.100003058220430.-2207520000..&type=3', 'https://www.facebook.com/photo.php?fbid=3047083218736922&set=pb.100003058220430.-2207520000..&type=3', 'https://www.facebook.com/photo.php?fbid=3046881388757105&set=pb.100003058220430.-2207520000..&type=3', 'https://www.facebook.com/photo.php?fbid=3046733832105194&set=pb.100003058220430.-2207520000..&type=3', 'https://www.facebook.com/photo.php?fbid=2998530826925495&set=pb.100003058220430.-2207520000..&type=3', 'https://www.facebook.com/photo.php?fbid=2995044440607467&set=pb.100003058220430.-2207520000..&type=3', 'https://www.facebook.com/photo.php?fbid=2937631353015443&set=pb.100003058220430.-2207520000..&type=3', 'https://www.facebook.com/photo.php?fbid=2881910611920851&set=pb.100003058220430.-2207520000..&type=3', 'https://www.facebook.com/photo.php?fbid=2821786974599882&set=pb.100003058220430.-2207520000..&type=3', 'https://www.facebook.com/photo.php?fbid=2794933690618544&set=pb.100003058220430.-2207520000..&type=3', 'https://www.facebook.com/photo.php?fbid=2705973862847861&set=pb.100003058220430.-2207520000..&type=3', 'https://www.facebook.com/photo.php?fbid=2696593223785925&set=pb.100003058220430.-2207520000..&type=3', 'https://www.facebook.com/photo.php?fbid=2665255106919737&set=pb.100003058220430.-2207520000..&type=3', 'https://www.facebook.com/photo.php?fbid=2642681172510464&set=pb.100003058220430.-2207520000..&type=3', 'https://www.facebook.com/photo.php?fbid=2605837076194874&set=pb.100003058220430.-2207520000..&type=3', 'https://www.facebook.com/photo.php?fbid=2305775456201039&set=pb.100003058220430.-2207520000..&type=3', 'https://www.facebook.com/photo.php?fbid=2186214391490480&set=pb.100003058220430.-2207520000..&type=3', 'https://www.facebook.com/photo.php?fbid=2182823598496226&set=pb.100003058220430.-2207520000..&type=3', 'https://www.facebook.com/photo.php?fbid=1947209732057615&set=pb.100003058220430.-2207520000..&type=3', 'https://www.facebook.com/photo.php?fbid=1880819032030019&set=pb.100003058220430.-2207520000..&type=3', 'https://www.facebook.com/photo.php?fbid=1755127337932523&set=pb.100003058220430.-2207520000..&type=3', 'https://www.facebook.com/photo.php?fbid=1729203753858215&set=pb.100003058220430.-2207520000..&type=3', 'https://www.facebook.com/photo.php?fbid=1717539401691317&set=pb.100003058220430.-2207520000..&type=3', 'https://www.facebook.com/photo.php?fbid=1707002342745023&set=pb.100003058220430.-2207520000..&type=3', 'https://www.facebook.com/photo.php?fbid=1681774638601127&set=pb.100003058220430.-2207520000..&type=3', 'https://www.facebook.com/photo.php?fbid=1677309172381007&set=pb.100003058220430.-2207520000..&type=3', 'https://www.facebook.com/photo.php?fbid=1660726417372616&set=pb.100003058220430.-2207520000..&type=3', 'https://www.facebook.com/photo.php?fbid=1609589889152936&set=pb.100003058220430.-2207520000..&type=3', 'https://www.facebook.com/photo.php?fbid=1455706874541239&set=pb.100003058220430.-2207520000..&type=3', 'https://www.facebook.com/photo.php?fbid=1447248382053755&set=pb.100003058220430.-2207520000..&type=3', 'https://www.facebook.com/photo.php?fbid=1447235622055031&set=pb.100003058220430.-2207520000..&type=3', 'https://www.facebook.com/photo.php?fbid=1436707476441179&set=pb.100003058220430.-2207520000..&type=3', 'https://www.facebook.com/photo.php?fbid=1388811454564115&set=pb.100003058220430.-2207520000..&type=3', 'https://www.facebook.com/photo.php?fbid=1376193999159194&set=pb.100003058220430.-2207520000..&type=3', 'https://www.facebook.com/photo.php?fbid=1372724956172765&set=pb.100003058220430.-2207520000..&type=3', 'https://www.facebook.com/photo.php?fbid=1372724886172772&set=pb.100003058220430.-2207520000..&type=3', 'https://www.facebook.com/photo.php?fbid=1371069943004933&set=pb.100003058220430.-2207520000..&type=3', 'https://www.facebook.com/photo.php?fbid=1368472553264672&set=pb.100003058220430.-2207520000..&type=3', 'https://www.facebook.com/photo.php?fbid=1368471693264758&set=pb.100003058220430.-2207520000..&type=3', 'https://www.facebook.com/photo.php?fbid=1368471413264786&set=pb.100003058220430.-2207520000..&type=3', 'https://www.facebook.com/photo.php?fbid=1368471383264789&set=pb.100003058220430.-2207520000..&type=3', 'https://www.facebook.com/photo.php?fbid=1368471189931475&set=pb.100003058220430.-2207520000..&type=3', 'https://www.facebook.com/photo.php?fbid=1368471156598145&set=pb.100003058220430.-2207520000..&type=3', 'https://www.facebook.com/photo.php?fbid=1368471106598150&set=pb.100003058220430.-2207520000..&type=3', 'https://www.facebook.com/photo.php?fbid=1368471073264820&set=pb.100003058220430.-2207520000..&type=3', 'https://www.facebook.com/photo.php?fbid=1360162970762297&set=pb.100003058220430.-2207520000..&type=3', 'https://www.facebook.com/photo.php?fbid=1357476381030956&set=pb.100003058220430.-2207520000..&type=3', 'https://www.facebook.com/photo.php?fbid=1351359084976019&set=pb.100003058220430.-2207520000..&type=3', 'https://www.facebook.com/photo.php?fbid=1340455322733062&set=pb.100003058220430.-2207520000..&type=3', 'https://www.facebook.com/photo.php?fbid=1334203930024868&set=pb.100003058220430.-2207520000..&type=3', 'https://www.facebook.com/photo.php?fbid=1330691753709419&set=pb.100003058220430.-2207520000..&type=3']\n"
     ]
    }
   ],
   "source": [
    " print(anchors)"
   ]
  },
  {
   "cell_type": "markdown",
   "metadata": {},
   "source": [
    "### Step 4: saving all images links into csv \n"
   ]
  },
  {
   "cell_type": "code",
   "execution_count": 11,
   "metadata": {},
   "outputs": [],
   "source": [
    "import pandas as pd\n",
    "df = pd.DataFrame(anchors) \n",
    "    \n",
    "# saving the dataframe \n",
    "#df.to_csv('GFG.csv') \n",
    "df.to_csv(r'images.csv', index = False)"
   ]
  },
  {
   "cell_type": "code",
   "execution_count": 16,
   "metadata": {},
   "outputs": [],
   "source": [
    "#Step 5: If you want Save all the photos in the new directory\n",
    "\n",
    "#import os\n",
    "#path = os.getcwd()\n",
    "#path = os.path.join(path, \"SCRAPED_PHOTOS\")\n",
    "#create the directory\n",
    "#os.mkdir(path)\n",
    "\n",
    "#import wget\n",
    "#download images\n",
    "#counter = 0\n",
    "#for image in images:\n",
    "    #save_as = os.path.join(path, str(counter) + '.jpg')\n",
    "    #wget.download(image, save_as)\n",
    "    #counter += 1"
   ]
  },
  {
   "cell_type": "code",
   "execution_count": 24,
   "metadata": {},
   "outputs": [],
   "source": [
    "## Extracting all comments that are linked in with images\n",
    "import requests\n",
    "import re\n",
    "import json\n",
    "import time\n",
    "import logging\n",
    "import pandas\n",
    "from collections import OrderedDict\n",
    "from bs4 import BeautifulSoup\n",
    "\n",
    "\n",
    "url = \"https://www.facebook.com/tulasi.ram.56863/\"\n",
    "\n",
    "def extract_comments(session, base_url, post_bs, post_url):\n",
    "    \"\"\"Extracts all coments from post\n",
    "    \"\"\"\n",
    "    comments = list()\n",
    "    show_more_url = post_bs.find('a', href=re.compile('/story\\.php\\?story'))['href']\n",
    "    first_comment_page = True\n",
    "\n",
    "    logging.info('Scraping comments from {}'.format(post_url))\n",
    "    while True:\n",
    "\n",
    "        logging.info('[!] Scraping comments.')\n",
    "        time.sleep(3)\n",
    "        if first_comment_page:\n",
    "            first_comment_page = False\n",
    "        else:\n",
    "            post_bs = get_bs(session, base_url+show_more_url)\n",
    "            time.sleep(3)\n",
    "        \n",
    "        try:\n",
    "            comments_elements = post_bs.find('div', id=re.compile('composer')).next_sibling\\\n",
    "                .find_all('div', id=re.compile('^\\d+'))\n",
    "        except Exception:\n",
    "            pass\n",
    "\n",
    "        if len(comments_elements) != 0:\n",
    "            logging.info('[!] There are comments.')\n",
    "        else:\n",
    "            break\n",
    "        \n",
    "        for comment in comments_elements:\n",
    "            comment_data = OrderedDict()\n",
    "            comment_data['text'] = list()\n",
    "            try:\n",
    "                comment_strings = comment.find('h3').next_sibling.strings\n",
    "                for string in comment_strings:\n",
    "                    comment_data['text'].append(string)\n",
    "            except Exception:\n",
    "                pass\n",
    "            \n",
    "            try:\n",
    "                media = comment.find('h3').next_sibling.next_sibling.children\n",
    "                if media is not None:\n",
    "                    for element in media:\n",
    "                        comment_data['media_url'] = element['src']\n",
    "                else:\n",
    "                    comment_data['media_url'] = ''\n",
    "            except Exception:\n",
    "                pass\n",
    "            \n",
    "            \n",
    "            comment_data['text'] = comment.find('h3').a['href'].split('?')[0]\n",
    "            comments.append(dict(comment_data))\n",
    "        \n",
    "        show_more_url = post_bs.find('a', href=re.compile('/story\\.php\\?story'))\n",
    "        if 'View more' in show_more_url.text:\n",
    "            logging.info('[!] More comments.')\n",
    "            show_more_url = show_more_url['href']\n",
    "        else:\n",
    "            break\n",
    "    \n",
    "    return comments"
   ]
  },
  {
   "cell_type": "code",
   "execution_count": null,
   "metadata": {},
   "outputs": [],
   "source": [
    "def save_data(data):\n",
    "    \"\"\"Converts data to JSON.\n",
    "    \"\"\"\n",
    "    with open('posts_data.json', 'w') as json_file:\n",
    "        json.dump(data, json_file, indent=4)\n",
    "\n",
    "        df1 =  pd.read_json(\"posts_data.json\")\n",
    "        df1.to_csv(\"comments.csv\")\n",
    "        "
   ]
  },
  {
   "cell_type": "code",
   "execution_count": null,
   "metadata": {},
   "outputs": [],
   "source": [
    "data = pd.read_csv(\"comments.csv\", encoding='UTF-8')\n",
    "\n",
    "data1 = pd.merge(left=df1, right=df, left_on='index', right_on='index')\n",
    "\n",
    "data1.to_excel(\"final.xlsx\")"
   ]
  },
  {
   "cell_type": "code",
   "execution_count": null,
   "metadata": {},
   "outputs": [],
   "source": [
    "## Storing data into mongo db\n"
   ]
  },
  {
   "cell_type": "code",
   "execution_count": 1,
   "metadata": {},
   "outputs": [],
   "source": [
    "import csv\n",
    "import pymongo\n",
    "import json\n",
    "import pandas as pd"
   ]
  },
  {
   "cell_type": "code",
   "execution_count": 2,
   "metadata": {},
   "outputs": [],
   "source": [
    "client = pymongo.MongoClient(\"mongodb://localhost:27017\")\n"
   ]
  },
  {
   "cell_type": "code",
   "execution_count": 20,
   "metadata": {},
   "outputs": [
    {
     "output_type": "execute_result",
     "data": {
      "text/plain": [
       "                                                Links  \\\n",
       "0   https://www.facebook.com/photo/?fbid=364670320...   \n",
       "1   https://www.facebook.com/photo.php?fbid=364670...   \n",
       "2   https://www.facebook.com/photo.php?fbid=364530...   \n",
       "3   https://www.facebook.com/photo.php?fbid=333081...   \n",
       "4   https://www.facebook.com/photo.php?fbid=322173...   \n",
       "5   https://www.facebook.com/photo.php?fbid=321613...   \n",
       "6   https://www.facebook.com/photo.php?fbid=307725...   \n",
       "7   https://www.facebook.com/photo.php?fbid=304708...   \n",
       "8   https://www.facebook.com/photo.php?fbid=304688...   \n",
       "9   https://www.facebook.com/photo.php?fbid=304673...   \n",
       "10  https://www.facebook.com/photo.php?fbid=299853...   \n",
       "11  https://www.facebook.com/photo.php?fbid=299504...   \n",
       "12  https://www.facebook.com/photo.php?fbid=293763...   \n",
       "13  https://www.facebook.com/photo.php?fbid=288191...   \n",
       "14  https://www.facebook.com/photo.php?fbid=282178...   \n",
       "15  https://www.facebook.com/photo.php?fbid=279493...   \n",
       "16  https://www.facebook.com/photo.php?fbid=270597...   \n",
       "17  https://www.facebook.com/photo.php?fbid=269659...   \n",
       "18  https://www.facebook.com/photo.php?fbid=266525...   \n",
       "19  https://www.facebook.com/photo.php?fbid=264268...   \n",
       "20  https://www.facebook.com/photo.php?fbid=260583...   \n",
       "21  https://www.facebook.com/photo.php?fbid=230577...   \n",
       "22  https://www.facebook.com/photo.php?fbid=218621...   \n",
       "23  https://www.facebook.com/photo.php?fbid=218282...   \n",
       "24  https://www.facebook.com/photo.php?fbid=194720...   \n",
       "25  https://www.facebook.com/photo.php?fbid=188081...   \n",
       "26  https://www.facebook.com/photo.php?fbid=175512...   \n",
       "27  https://www.facebook.com/photo.php?fbid=172920...   \n",
       "28  https://www.facebook.com/photo.php?fbid=171753...   \n",
       "29  https://www.facebook.com/photo.php?fbid=170700...   \n",
       "30  https://www.facebook.com/photo.php?fbid=168177...   \n",
       "31  https://www.facebook.com/photo.php?fbid=167730...   \n",
       "32  https://www.facebook.com/photo.php?fbid=166072...   \n",
       "33  https://www.facebook.com/photo.php?fbid=160958...   \n",
       "34  https://www.facebook.com/photo.php?fbid=145570...   \n",
       "35  https://www.facebook.com/photo.php?fbid=144724...   \n",
       "36  https://www.facebook.com/photo.php?fbid=144723...   \n",
       "37  https://www.facebook.com/photo.php?fbid=143670...   \n",
       "38  https://www.facebook.com/photo.php?fbid=138881...   \n",
       "39  https://www.facebook.com/photo.php?fbid=137619...   \n",
       "40  https://www.facebook.com/photo.php?fbid=137272...   \n",
       "41  https://www.facebook.com/photo.php?fbid=137272...   \n",
       "42  https://www.facebook.com/photo.php?fbid=137106...   \n",
       "43  https://www.facebook.com/photo.php?fbid=136847...   \n",
       "44  https://www.facebook.com/photo.php?fbid=136847...   \n",
       "45  https://www.facebook.com/photo.php?fbid=136847...   \n",
       "46  https://www.facebook.com/photo.php?fbid=136847...   \n",
       "47  https://www.facebook.com/photo.php?fbid=136847...   \n",
       "48  https://www.facebook.com/photo.php?fbid=136847...   \n",
       "49  https://www.facebook.com/photo.php?fbid=136847...   \n",
       "\n",
       "                                         text   \n",
       "0                   its awesome, looking good   \n",
       "1                           you look like hero  \n",
       "2                                    super ram  \n",
       "3                               Hi how are you  \n",
       "4         where are you?, how was your family?  \n",
       "5                             Are you in india  \n",
       "6                                 amazing pic   \n",
       "7                         how was your nephew?  \n",
       "8                               you look great  \n",
       "9            tell me when you will be in india  \n",
       "10                    ____ __________ _______?  \n",
       "11                           how was your mom?  \n",
       "12              astronishing opposite to paris  \n",
       "13                           looking beautiful  \n",
       "14                            how are you ram?  \n",
       "15                            you look amazing  \n",
       "16                  you are quite looking fine  \n",
       "17                    its been so years we met  \n",
       "18                          i have to meet you  \n",
       "19                   when you will be in india  \n",
       "20                   are you located to France  \n",
       "21  once call me ram it was long ago we spoken  \n",
       "22                     looking stunning…..hero  \n",
       "23             how are you enjoying in France?  \n",
       "24           your eyes are so straight looking  \n",
       "25                          how are you doing?  \n",
       "26                       how was your parents?  \n",
       "27           when will be your visit to india?  \n",
       "28      i am coming to paris.once call me ram?  \n",
       "29                           how was your day?  \n",
       "30                    if you are free call me?  \n",
       "31                     may be we have to meet?  \n",
       "32                                    stunning  \n",
       "33                            looking handsome  \n",
       "34                do you have contact number?   \n",
       "35           when will be your visit to india?  \n",
       "36                            how are you ram?  \n",
       "37                           looking beautiful  \n",
       "38                     looking stunning…..hero  \n",
       "39           when will be your visit to india?  \n",
       "40             how are you enjoying in France?  \n",
       "41                        how was your nephew?  \n",
       "42                   when you will be in india  \n",
       "43        where are you?, how was your family?  \n",
       "44                            looking handsome  \n",
       "45                              more beautiful  \n",
       "46                       how was your parents?  \n",
       "47                   when you will be in india  \n",
       "48                           how was your mom?  \n",
       "49                            looking handsome  "
      ],
      "text/html": "<div>\n<style scoped>\n    .dataframe tbody tr th:only-of-type {\n        vertical-align: middle;\n    }\n\n    .dataframe tbody tr th {\n        vertical-align: top;\n    }\n\n    .dataframe thead th {\n        text-align: right;\n    }\n</style>\n<table border=\"1\" class=\"dataframe\">\n  <thead>\n    <tr style=\"text-align: right;\">\n      <th></th>\n      <th>Links</th>\n      <th>text</th>\n    </tr>\n  </thead>\n  <tbody>\n    <tr>\n      <th>0</th>\n      <td>https://www.facebook.com/photo/?fbid=364670320...</td>\n      <td>its awesome, looking good</td>\n    </tr>\n    <tr>\n      <th>1</th>\n      <td>https://www.facebook.com/photo.php?fbid=364670...</td>\n      <td>you look like hero</td>\n    </tr>\n    <tr>\n      <th>2</th>\n      <td>https://www.facebook.com/photo.php?fbid=364530...</td>\n      <td>super ram</td>\n    </tr>\n    <tr>\n      <th>3</th>\n      <td>https://www.facebook.com/photo.php?fbid=333081...</td>\n      <td>Hi how are you</td>\n    </tr>\n    <tr>\n      <th>4</th>\n      <td>https://www.facebook.com/photo.php?fbid=322173...</td>\n      <td>where are you?, how was your family?</td>\n    </tr>\n    <tr>\n      <th>5</th>\n      <td>https://www.facebook.com/photo.php?fbid=321613...</td>\n      <td>Are you in india</td>\n    </tr>\n    <tr>\n      <th>6</th>\n      <td>https://www.facebook.com/photo.php?fbid=307725...</td>\n      <td>amazing pic</td>\n    </tr>\n    <tr>\n      <th>7</th>\n      <td>https://www.facebook.com/photo.php?fbid=304708...</td>\n      <td>how was your nephew?</td>\n    </tr>\n    <tr>\n      <th>8</th>\n      <td>https://www.facebook.com/photo.php?fbid=304688...</td>\n      <td>you look great</td>\n    </tr>\n    <tr>\n      <th>9</th>\n      <td>https://www.facebook.com/photo.php?fbid=304673...</td>\n      <td>tell me when you will be in india</td>\n    </tr>\n    <tr>\n      <th>10</th>\n      <td>https://www.facebook.com/photo.php?fbid=299853...</td>\n      <td>____ __________ _______?</td>\n    </tr>\n    <tr>\n      <th>11</th>\n      <td>https://www.facebook.com/photo.php?fbid=299504...</td>\n      <td>how was your mom?</td>\n    </tr>\n    <tr>\n      <th>12</th>\n      <td>https://www.facebook.com/photo.php?fbid=293763...</td>\n      <td>astronishing opposite to paris</td>\n    </tr>\n    <tr>\n      <th>13</th>\n      <td>https://www.facebook.com/photo.php?fbid=288191...</td>\n      <td>looking beautiful</td>\n    </tr>\n    <tr>\n      <th>14</th>\n      <td>https://www.facebook.com/photo.php?fbid=282178...</td>\n      <td>how are you ram?</td>\n    </tr>\n    <tr>\n      <th>15</th>\n      <td>https://www.facebook.com/photo.php?fbid=279493...</td>\n      <td>you look amazing</td>\n    </tr>\n    <tr>\n      <th>16</th>\n      <td>https://www.facebook.com/photo.php?fbid=270597...</td>\n      <td>you are quite looking fine</td>\n    </tr>\n    <tr>\n      <th>17</th>\n      <td>https://www.facebook.com/photo.php?fbid=269659...</td>\n      <td>its been so years we met</td>\n    </tr>\n    <tr>\n      <th>18</th>\n      <td>https://www.facebook.com/photo.php?fbid=266525...</td>\n      <td>i have to meet you</td>\n    </tr>\n    <tr>\n      <th>19</th>\n      <td>https://www.facebook.com/photo.php?fbid=264268...</td>\n      <td>when you will be in india</td>\n    </tr>\n    <tr>\n      <th>20</th>\n      <td>https://www.facebook.com/photo.php?fbid=260583...</td>\n      <td>are you located to France</td>\n    </tr>\n    <tr>\n      <th>21</th>\n      <td>https://www.facebook.com/photo.php?fbid=230577...</td>\n      <td>once call me ram it was long ago we spoken</td>\n    </tr>\n    <tr>\n      <th>22</th>\n      <td>https://www.facebook.com/photo.php?fbid=218621...</td>\n      <td>looking stunning…..hero</td>\n    </tr>\n    <tr>\n      <th>23</th>\n      <td>https://www.facebook.com/photo.php?fbid=218282...</td>\n      <td>how are you enjoying in France?</td>\n    </tr>\n    <tr>\n      <th>24</th>\n      <td>https://www.facebook.com/photo.php?fbid=194720...</td>\n      <td>your eyes are so straight looking</td>\n    </tr>\n    <tr>\n      <th>25</th>\n      <td>https://www.facebook.com/photo.php?fbid=188081...</td>\n      <td>how are you doing?</td>\n    </tr>\n    <tr>\n      <th>26</th>\n      <td>https://www.facebook.com/photo.php?fbid=175512...</td>\n      <td>how was your parents?</td>\n    </tr>\n    <tr>\n      <th>27</th>\n      <td>https://www.facebook.com/photo.php?fbid=172920...</td>\n      <td>when will be your visit to india?</td>\n    </tr>\n    <tr>\n      <th>28</th>\n      <td>https://www.facebook.com/photo.php?fbid=171753...</td>\n      <td>i am coming to paris.once call me ram?</td>\n    </tr>\n    <tr>\n      <th>29</th>\n      <td>https://www.facebook.com/photo.php?fbid=170700...</td>\n      <td>how was your day?</td>\n    </tr>\n    <tr>\n      <th>30</th>\n      <td>https://www.facebook.com/photo.php?fbid=168177...</td>\n      <td>if you are free call me?</td>\n    </tr>\n    <tr>\n      <th>31</th>\n      <td>https://www.facebook.com/photo.php?fbid=167730...</td>\n      <td>may be we have to meet?</td>\n    </tr>\n    <tr>\n      <th>32</th>\n      <td>https://www.facebook.com/photo.php?fbid=166072...</td>\n      <td>stunning</td>\n    </tr>\n    <tr>\n      <th>33</th>\n      <td>https://www.facebook.com/photo.php?fbid=160958...</td>\n      <td>looking handsome</td>\n    </tr>\n    <tr>\n      <th>34</th>\n      <td>https://www.facebook.com/photo.php?fbid=145570...</td>\n      <td>do you have contact number?</td>\n    </tr>\n    <tr>\n      <th>35</th>\n      <td>https://www.facebook.com/photo.php?fbid=144724...</td>\n      <td>when will be your visit to india?</td>\n    </tr>\n    <tr>\n      <th>36</th>\n      <td>https://www.facebook.com/photo.php?fbid=144723...</td>\n      <td>how are you ram?</td>\n    </tr>\n    <tr>\n      <th>37</th>\n      <td>https://www.facebook.com/photo.php?fbid=143670...</td>\n      <td>looking beautiful</td>\n    </tr>\n    <tr>\n      <th>38</th>\n      <td>https://www.facebook.com/photo.php?fbid=138881...</td>\n      <td>looking stunning…..hero</td>\n    </tr>\n    <tr>\n      <th>39</th>\n      <td>https://www.facebook.com/photo.php?fbid=137619...</td>\n      <td>when will be your visit to india?</td>\n    </tr>\n    <tr>\n      <th>40</th>\n      <td>https://www.facebook.com/photo.php?fbid=137272...</td>\n      <td>how are you enjoying in France?</td>\n    </tr>\n    <tr>\n      <th>41</th>\n      <td>https://www.facebook.com/photo.php?fbid=137272...</td>\n      <td>how was your nephew?</td>\n    </tr>\n    <tr>\n      <th>42</th>\n      <td>https://www.facebook.com/photo.php?fbid=137106...</td>\n      <td>when you will be in india</td>\n    </tr>\n    <tr>\n      <th>43</th>\n      <td>https://www.facebook.com/photo.php?fbid=136847...</td>\n      <td>where are you?, how was your family?</td>\n    </tr>\n    <tr>\n      <th>44</th>\n      <td>https://www.facebook.com/photo.php?fbid=136847...</td>\n      <td>looking handsome</td>\n    </tr>\n    <tr>\n      <th>45</th>\n      <td>https://www.facebook.com/photo.php?fbid=136847...</td>\n      <td>more beautiful</td>\n    </tr>\n    <tr>\n      <th>46</th>\n      <td>https://www.facebook.com/photo.php?fbid=136847...</td>\n      <td>how was your parents?</td>\n    </tr>\n    <tr>\n      <th>47</th>\n      <td>https://www.facebook.com/photo.php?fbid=136847...</td>\n      <td>when you will be in india</td>\n    </tr>\n    <tr>\n      <th>48</th>\n      <td>https://www.facebook.com/photo.php?fbid=136847...</td>\n      <td>how was your mom?</td>\n    </tr>\n    <tr>\n      <th>49</th>\n      <td>https://www.facebook.com/photo.php?fbid=136847...</td>\n      <td>looking handsome</td>\n    </tr>\n  </tbody>\n</table>\n</div>"
     },
     "metadata": {},
     "execution_count": 20
    }
   ],
   "source": [
    "df = pd.read_excel(\"final.xlsx\")\n",
    "df1 = df.to_csv(\"final.csv\")\n",
    "df.head(50)"
   ]
  },
  {
   "cell_type": "code",
   "execution_count": 21,
   "metadata": {},
   "outputs": [],
   "source": [
    "data = df.to_dict(orient =\"records\")"
   ]
  },
  {
   "cell_type": "code",
   "execution_count": 22,
   "metadata": {},
   "outputs": [
    {
     "output_type": "execute_result",
     "data": {
      "text/plain": [
       "[{'Links': 'https://www.facebook.com/photo/?fbid=3646703205441584&set=a.730857030359564',\n",
       "  'text ': 'its awesome, looking good '},\n",
       " {'Links': 'https://www.facebook.com/photo.php?fbid=3646703205441584&set=pb.100003058220430.-2207520000..&type=3',\n",
       "  'text ': 'you look like hero'},\n",
       " {'Links': 'https://www.facebook.com/photo.php?fbid=3645307285581176&set=pb.100003058220430.-2207520000..&type=3',\n",
       "  'text ': 'super ram'},\n",
       " {'Links': 'https://www.facebook.com/photo.php?fbid=3330814027030505&set=pb.100003058220430.-2207520000..&type=3',\n",
       "  'text ': 'Hi how are you'},\n",
       " {'Links': 'https://www.facebook.com/photo.php?fbid=3221731437938765&set=pb.100003058220430.-2207520000..&type=3',\n",
       "  'text ': 'where are you?, how was your family?'},\n",
       " {'Links': 'https://www.facebook.com/photo.php?fbid=3216131868498722&set=pb.100003058220430.-2207520000..&type=3',\n",
       "  'text ': 'Are you in india'},\n",
       " {'Links': 'https://www.facebook.com/photo.php?fbid=3077251942386716&set=pb.100003058220430.-2207520000..&type=3',\n",
       "  'text ': 'amazing pic '},\n",
       " {'Links': 'https://www.facebook.com/photo.php?fbid=3047083218736922&set=pb.100003058220430.-2207520000..&type=3',\n",
       "  'text ': 'how was your nephew?'},\n",
       " {'Links': 'https://www.facebook.com/photo.php?fbid=3046881388757105&set=pb.100003058220430.-2207520000..&type=3',\n",
       "  'text ': 'you look great'},\n",
       " {'Links': 'https://www.facebook.com/photo.php?fbid=3046733832105194&set=pb.100003058220430.-2207520000..&type=3',\n",
       "  'text ': 'tell me when you will be in india'},\n",
       " {'Links': 'https://www.facebook.com/photo.php?fbid=2998530826925495&set=pb.100003058220430.-2207520000..&type=3',\n",
       "  'text ': '____ __________ _______?'},\n",
       " {'Links': 'https://www.facebook.com/photo.php?fbid=2995044440607467&set=pb.100003058220430.-2207520000..&type=3',\n",
       "  'text ': 'how was your mom?'},\n",
       " {'Links': 'https://www.facebook.com/photo.php?fbid=2937631353015443&set=pb.100003058220430.-2207520000..&type=3',\n",
       "  'text ': 'astronishing opposite to paris'},\n",
       " {'Links': 'https://www.facebook.com/photo.php?fbid=2881910611920851&set=pb.100003058220430.-2207520000..&type=3',\n",
       "  'text ': 'looking beautiful'},\n",
       " {'Links': 'https://www.facebook.com/photo.php?fbid=2821786974599882&set=pb.100003058220430.-2207520000..&type=3',\n",
       "  'text ': 'how are you ram?'},\n",
       " {'Links': 'https://www.facebook.com/photo.php?fbid=2794933690618544&set=pb.100003058220430.-2207520000..&type=3',\n",
       "  'text ': 'you look amazing'},\n",
       " {'Links': 'https://www.facebook.com/photo.php?fbid=2705973862847861&set=pb.100003058220430.-2207520000..&type=3',\n",
       "  'text ': 'you are quite looking fine'},\n",
       " {'Links': 'https://www.facebook.com/photo.php?fbid=2696593223785925&set=pb.100003058220430.-2207520000..&type=3',\n",
       "  'text ': 'its been so years we met'},\n",
       " {'Links': 'https://www.facebook.com/photo.php?fbid=2665255106919737&set=pb.100003058220430.-2207520000..&type=3',\n",
       "  'text ': 'i have to meet you'},\n",
       " {'Links': 'https://www.facebook.com/photo.php?fbid=2642681172510464&set=pb.100003058220430.-2207520000..&type=3',\n",
       "  'text ': 'when you will be in india'},\n",
       " {'Links': 'https://www.facebook.com/photo.php?fbid=2605837076194874&set=pb.100003058220430.-2207520000..&type=3',\n",
       "  'text ': 'are you located to France'},\n",
       " {'Links': 'https://www.facebook.com/photo.php?fbid=2305775456201039&set=pb.100003058220430.-2207520000..&type=3',\n",
       "  'text ': 'once call me ram it was long ago we spoken'},\n",
       " {'Links': 'https://www.facebook.com/photo.php?fbid=2186214391490480&set=pb.100003058220430.-2207520000..&type=3',\n",
       "  'text ': 'looking stunning…..hero'},\n",
       " {'Links': 'https://www.facebook.com/photo.php?fbid=2182823598496226&set=pb.100003058220430.-2207520000..&type=3',\n",
       "  'text ': 'how are you enjoying in France?'},\n",
       " {'Links': 'https://www.facebook.com/photo.php?fbid=1947209732057615&set=pb.100003058220430.-2207520000..&type=3',\n",
       "  'text ': 'your eyes are so straight looking'},\n",
       " {'Links': 'https://www.facebook.com/photo.php?fbid=1880819032030019&set=pb.100003058220430.-2207520000..&type=3',\n",
       "  'text ': 'how are you doing?'},\n",
       " {'Links': 'https://www.facebook.com/photo.php?fbid=1755127337932523&set=pb.100003058220430.-2207520000..&type=3',\n",
       "  'text ': 'how was your parents?'},\n",
       " {'Links': 'https://www.facebook.com/photo.php?fbid=1729203753858215&set=pb.100003058220430.-2207520000..&type=3',\n",
       "  'text ': 'when will be your visit to india?'},\n",
       " {'Links': 'https://www.facebook.com/photo.php?fbid=1717539401691317&set=pb.100003058220430.-2207520000..&type=3',\n",
       "  'text ': 'i am coming to paris.once call me ram?'},\n",
       " {'Links': 'https://www.facebook.com/photo.php?fbid=1707002342745023&set=pb.100003058220430.-2207520000..&type=3',\n",
       "  'text ': 'how was your day?'},\n",
       " {'Links': 'https://www.facebook.com/photo.php?fbid=1681774638601127&set=pb.100003058220430.-2207520000..&type=3',\n",
       "  'text ': 'if you are free call me?'},\n",
       " {'Links': 'https://www.facebook.com/photo.php?fbid=1677309172381007&set=pb.100003058220430.-2207520000..&type=3',\n",
       "  'text ': 'may be we have to meet?'},\n",
       " {'Links': 'https://www.facebook.com/photo.php?fbid=1660726417372616&set=pb.100003058220430.-2207520000..&type=3',\n",
       "  'text ': 'stunning'},\n",
       " {'Links': 'https://www.facebook.com/photo.php?fbid=1609589889152936&set=pb.100003058220430.-2207520000..&type=3',\n",
       "  'text ': 'looking handsome'},\n",
       " {'Links': 'https://www.facebook.com/photo.php?fbid=1455706874541239&set=pb.100003058220430.-2207520000..&type=3',\n",
       "  'text ': 'do you have contact number? '},\n",
       " {'Links': 'https://www.facebook.com/photo.php?fbid=1447248382053755&set=pb.100003058220430.-2207520000..&type=3',\n",
       "  'text ': 'when will be your visit to india?'},\n",
       " {'Links': 'https://www.facebook.com/photo.php?fbid=1447235622055031&set=pb.100003058220430.-2207520000..&type=3',\n",
       "  'text ': 'how are you ram?'},\n",
       " {'Links': 'https://www.facebook.com/photo.php?fbid=1436707476441179&set=pb.100003058220430.-2207520000..&type=3',\n",
       "  'text ': 'looking beautiful'},\n",
       " {'Links': 'https://www.facebook.com/photo.php?fbid=1388811454564115&set=pb.100003058220430.-2207520000..&type=3',\n",
       "  'text ': 'looking stunning…..hero'},\n",
       " {'Links': 'https://www.facebook.com/photo.php?fbid=1376193999159194&set=pb.100003058220430.-2207520000..&type=3',\n",
       "  'text ': 'when will be your visit to india?'},\n",
       " {'Links': 'https://www.facebook.com/photo.php?fbid=1372724956172765&set=pb.100003058220430.-2207520000..&type=3',\n",
       "  'text ': 'how are you enjoying in France?'},\n",
       " {'Links': 'https://www.facebook.com/photo.php?fbid=1372724886172772&set=pb.100003058220430.-2207520000..&type=3',\n",
       "  'text ': 'how was your nephew?'},\n",
       " {'Links': 'https://www.facebook.com/photo.php?fbid=1371069943004933&set=pb.100003058220430.-2207520000..&type=3',\n",
       "  'text ': 'when you will be in india'},\n",
       " {'Links': 'https://www.facebook.com/photo.php?fbid=1368472553264672&set=pb.100003058220430.-2207520000..&type=3',\n",
       "  'text ': 'where are you?, how was your family?'},\n",
       " {'Links': 'https://www.facebook.com/photo.php?fbid=1368471693264758&set=pb.100003058220430.-2207520000..&type=3',\n",
       "  'text ': 'looking handsome'},\n",
       " {'Links': 'https://www.facebook.com/photo.php?fbid=1368471413264786&set=pb.100003058220430.-2207520000..&type=3',\n",
       "  'text ': 'more beautiful'},\n",
       " {'Links': 'https://www.facebook.com/photo.php?fbid=1368471383264789&set=pb.100003058220430.-2207520000..&type=3',\n",
       "  'text ': 'how was your parents?'},\n",
       " {'Links': 'https://www.facebook.com/photo.php?fbid=1368471189931475&set=pb.100003058220430.-2207520000..&type=3',\n",
       "  'text ': 'when you will be in india'},\n",
       " {'Links': 'https://www.facebook.com/photo.php?fbid=1368471156598145&set=pb.100003058220430.-2207520000..&type=3',\n",
       "  'text ': 'how was your mom?'},\n",
       " {'Links': 'https://www.facebook.com/photo.php?fbid=1368471106598150&set=pb.100003058220430.-2207520000..&type=3',\n",
       "  'text ': 'looking handsome'},\n",
       " {'Links': 'https://www.facebook.com/photo.php?fbid=1368471073264820&set=pb.100003058220430.-2207520000..&type=3',\n",
       "  'text ': 'amazing pic '},\n",
       " {'Links': 'https://www.facebook.com/photo.php?fbid=1360162970762297&set=pb.100003058220430.-2207520000..&type=3',\n",
       "  'text ': 'Are you in india'},\n",
       " {'Links': 'https://www.facebook.com/photo.php?fbid=1357476381030956&set=pb.100003058220430.-2207520000..&type=3',\n",
       "  'text ': 'are you located to France'},\n",
       " {'Links': 'https://www.facebook.com/photo.php?fbid=1351359084976019&set=pb.100003058220430.-2207520000..&type=3',\n",
       "  'text ': 'where are you?, how was your family?'},\n",
       " {'Links': 'https://www.facebook.com/photo.php?fbid=1340455322733062&set=pb.100003058220430.-2207520000..&type=3',\n",
       "  'text ': 'when will be your visit to india?'},\n",
       " {'Links': 'https://www.facebook.com/photo.php?fbid=1334203930024868&set=pb.100003058220430.-2207520000..&type=3',\n",
       "  'text ': 'looking handsome'},\n",
       " {'Links': 'https://www.facebook.com/photo.php?fbid=1330691753709419&set=pb.100003058220430.-2207520000..&type=3',\n",
       "  'text ': nan}]"
      ]
     },
     "metadata": {},
     "execution_count": 22
    }
   ],
   "source": [
    "data"
   ]
  },
  {
   "cell_type": "code",
   "execution_count": 23,
   "metadata": {},
   "outputs": [],
   "source": [
    "db = client[\"MachineLearning\"]"
   ]
  },
  {
   "cell_type": "code",
   "execution_count": 24,
   "metadata": {},
   "outputs": [
    {
     "output_type": "stream",
     "name": "stdout",
     "text": [
      "Database(MongoClient(host=['localhost:27017'], document_class=dict, tz_aware=False, connect=True), 'MachineLearning')\n"
     ]
    }
   ],
   "source": [
    "print(db)"
   ]
  },
  {
   "cell_type": "code",
   "execution_count": 26,
   "metadata": {},
   "outputs": [
    {
     "output_type": "error",
     "ename": "ServerSelectionTimeoutError",
     "evalue": "localhost:27017: [Errno 61] Connection refused, Timeout: 30s, Topology Description: <TopologyDescription id: 60ecc61b4463c0a2b584009b, topology_type: Single, servers: [<ServerDescription ('localhost', 27017) server_type: Unknown, rtt: None, error=AutoReconnect('localhost:27017: [Errno 61] Connection refused')>]>",
     "traceback": [
      "\u001b[0;31m---------------------------------------------------------------------------\u001b[0m",
      "\u001b[0;31mServerSelectionTimeoutError\u001b[0m               Traceback (most recent call last)",
      "\u001b[0;32m<ipython-input-26-a43b5757e996>\u001b[0m in \u001b[0;36m<module>\u001b[0;34m\u001b[0m\n\u001b[0;32m----> 1\u001b[0;31m \u001b[0mdb\u001b[0m\u001b[0;34m.\u001b[0m\u001b[0msample_training\u001b[0m\u001b[0;34m.\u001b[0m\u001b[0minsert_many\u001b[0m\u001b[0;34m(\u001b[0m\u001b[0mdata\u001b[0m\u001b[0;34m)\u001b[0m\u001b[0;34m\u001b[0m\u001b[0;34m\u001b[0m\u001b[0m\n\u001b[0m",
      "\u001b[0;32m/Applications/anaconda3/lib/python3.8/site-packages/pymongo/collection.py\u001b[0m in \u001b[0;36minsert_many\u001b[0;34m(self, documents, ordered, bypass_document_validation, session)\u001b[0m\n\u001b[1;32m    759\u001b[0m         \u001b[0mblk\u001b[0m \u001b[0;34m=\u001b[0m \u001b[0m_Bulk\u001b[0m\u001b[0;34m(\u001b[0m\u001b[0mself\u001b[0m\u001b[0;34m,\u001b[0m \u001b[0mordered\u001b[0m\u001b[0;34m,\u001b[0m \u001b[0mbypass_document_validation\u001b[0m\u001b[0;34m)\u001b[0m\u001b[0;34m\u001b[0m\u001b[0;34m\u001b[0m\u001b[0m\n\u001b[1;32m    760\u001b[0m         \u001b[0mblk\u001b[0m\u001b[0;34m.\u001b[0m\u001b[0mops\u001b[0m \u001b[0;34m=\u001b[0m \u001b[0;34m[\u001b[0m\u001b[0mdoc\u001b[0m \u001b[0;32mfor\u001b[0m \u001b[0mdoc\u001b[0m \u001b[0;32min\u001b[0m \u001b[0mgen\u001b[0m\u001b[0;34m(\u001b[0m\u001b[0;34m)\u001b[0m\u001b[0;34m]\u001b[0m\u001b[0;34m\u001b[0m\u001b[0;34m\u001b[0m\u001b[0m\n\u001b[0;32m--> 761\u001b[0;31m         \u001b[0mblk\u001b[0m\u001b[0;34m.\u001b[0m\u001b[0mexecute\u001b[0m\u001b[0;34m(\u001b[0m\u001b[0mwrite_concern\u001b[0m\u001b[0;34m,\u001b[0m \u001b[0msession\u001b[0m\u001b[0;34m=\u001b[0m\u001b[0msession\u001b[0m\u001b[0;34m)\u001b[0m\u001b[0;34m\u001b[0m\u001b[0;34m\u001b[0m\u001b[0m\n\u001b[0m\u001b[1;32m    762\u001b[0m         \u001b[0;32mreturn\u001b[0m \u001b[0mInsertManyResult\u001b[0m\u001b[0;34m(\u001b[0m\u001b[0minserted_ids\u001b[0m\u001b[0;34m,\u001b[0m \u001b[0mwrite_concern\u001b[0m\u001b[0;34m.\u001b[0m\u001b[0macknowledged\u001b[0m\u001b[0;34m)\u001b[0m\u001b[0;34m\u001b[0m\u001b[0;34m\u001b[0m\u001b[0m\n\u001b[1;32m    763\u001b[0m \u001b[0;34m\u001b[0m\u001b[0m\n",
      "\u001b[0;32m/Applications/anaconda3/lib/python3.8/site-packages/pymongo/bulk.py\u001b[0m in \u001b[0;36mexecute\u001b[0;34m(self, write_concern, session)\u001b[0m\n\u001b[1;32m    526\u001b[0m                 \u001b[0mself\u001b[0m\u001b[0;34m.\u001b[0m\u001b[0mexecute_no_results\u001b[0m\u001b[0;34m(\u001b[0m\u001b[0msock_info\u001b[0m\u001b[0;34m,\u001b[0m \u001b[0mgenerator\u001b[0m\u001b[0;34m)\u001b[0m\u001b[0;34m\u001b[0m\u001b[0;34m\u001b[0m\u001b[0m\n\u001b[1;32m    527\u001b[0m         \u001b[0;32melse\u001b[0m\u001b[0;34m:\u001b[0m\u001b[0;34m\u001b[0m\u001b[0;34m\u001b[0m\u001b[0m\n\u001b[0;32m--> 528\u001b[0;31m             \u001b[0;32mreturn\u001b[0m \u001b[0mself\u001b[0m\u001b[0;34m.\u001b[0m\u001b[0mexecute_command\u001b[0m\u001b[0;34m(\u001b[0m\u001b[0mgenerator\u001b[0m\u001b[0;34m,\u001b[0m \u001b[0mwrite_concern\u001b[0m\u001b[0;34m,\u001b[0m \u001b[0msession\u001b[0m\u001b[0;34m)\u001b[0m\u001b[0;34m\u001b[0m\u001b[0;34m\u001b[0m\u001b[0m\n\u001b[0m\u001b[1;32m    529\u001b[0m \u001b[0;34m\u001b[0m\u001b[0m\n\u001b[1;32m    530\u001b[0m \u001b[0;34m\u001b[0m\u001b[0m\n",
      "\u001b[0;32m/Applications/anaconda3/lib/python3.8/site-packages/pymongo/bulk.py\u001b[0m in \u001b[0;36mexecute_command\u001b[0;34m(self, generator, write_concern, session)\u001b[0m\n\u001b[1;32m    356\u001b[0m \u001b[0;34m\u001b[0m\u001b[0m\n\u001b[1;32m    357\u001b[0m         \u001b[0mclient\u001b[0m \u001b[0;34m=\u001b[0m \u001b[0mself\u001b[0m\u001b[0;34m.\u001b[0m\u001b[0mcollection\u001b[0m\u001b[0;34m.\u001b[0m\u001b[0mdatabase\u001b[0m\u001b[0;34m.\u001b[0m\u001b[0mclient\u001b[0m\u001b[0;34m\u001b[0m\u001b[0;34m\u001b[0m\u001b[0m\n\u001b[0;32m--> 358\u001b[0;31m         \u001b[0;32mwith\u001b[0m \u001b[0mclient\u001b[0m\u001b[0;34m.\u001b[0m\u001b[0m_tmp_session\u001b[0m\u001b[0;34m(\u001b[0m\u001b[0msession\u001b[0m\u001b[0;34m)\u001b[0m \u001b[0;32mas\u001b[0m \u001b[0ms\u001b[0m\u001b[0;34m:\u001b[0m\u001b[0;34m\u001b[0m\u001b[0;34m\u001b[0m\u001b[0m\n\u001b[0m\u001b[1;32m    359\u001b[0m             client._retry_with_session(\n\u001b[1;32m    360\u001b[0m                 self.is_retryable, retryable_bulk, s, self)\n",
      "\u001b[0;32m/Applications/anaconda3/lib/python3.8/contextlib.py\u001b[0m in \u001b[0;36m__enter__\u001b[0;34m(self)\u001b[0m\n\u001b[1;32m    111\u001b[0m         \u001b[0;32mdel\u001b[0m \u001b[0mself\u001b[0m\u001b[0;34m.\u001b[0m\u001b[0margs\u001b[0m\u001b[0;34m,\u001b[0m \u001b[0mself\u001b[0m\u001b[0;34m.\u001b[0m\u001b[0mkwds\u001b[0m\u001b[0;34m,\u001b[0m \u001b[0mself\u001b[0m\u001b[0;34m.\u001b[0m\u001b[0mfunc\u001b[0m\u001b[0;34m\u001b[0m\u001b[0;34m\u001b[0m\u001b[0m\n\u001b[1;32m    112\u001b[0m         \u001b[0;32mtry\u001b[0m\u001b[0;34m:\u001b[0m\u001b[0;34m\u001b[0m\u001b[0;34m\u001b[0m\u001b[0m\n\u001b[0;32m--> 113\u001b[0;31m             \u001b[0;32mreturn\u001b[0m \u001b[0mnext\u001b[0m\u001b[0;34m(\u001b[0m\u001b[0mself\u001b[0m\u001b[0;34m.\u001b[0m\u001b[0mgen\u001b[0m\u001b[0;34m)\u001b[0m\u001b[0;34m\u001b[0m\u001b[0;34m\u001b[0m\u001b[0m\n\u001b[0m\u001b[1;32m    114\u001b[0m         \u001b[0;32mexcept\u001b[0m \u001b[0mStopIteration\u001b[0m\u001b[0;34m:\u001b[0m\u001b[0;34m\u001b[0m\u001b[0;34m\u001b[0m\u001b[0m\n\u001b[1;32m    115\u001b[0m             \u001b[0;32mraise\u001b[0m \u001b[0mRuntimeError\u001b[0m\u001b[0;34m(\u001b[0m\u001b[0;34m\"generator didn't yield\"\u001b[0m\u001b[0;34m)\u001b[0m \u001b[0;32mfrom\u001b[0m \u001b[0;32mNone\u001b[0m\u001b[0;34m\u001b[0m\u001b[0;34m\u001b[0m\u001b[0m\n",
      "\u001b[0;32m/Applications/anaconda3/lib/python3.8/site-packages/pymongo/mongo_client.py\u001b[0m in \u001b[0;36m_tmp_session\u001b[0;34m(self, session, close)\u001b[0m\n\u001b[1;32m   1827\u001b[0m             \u001b[0;32mreturn\u001b[0m\u001b[0;34m\u001b[0m\u001b[0;34m\u001b[0m\u001b[0m\n\u001b[1;32m   1828\u001b[0m \u001b[0;34m\u001b[0m\u001b[0m\n\u001b[0;32m-> 1829\u001b[0;31m         \u001b[0ms\u001b[0m \u001b[0;34m=\u001b[0m \u001b[0mself\u001b[0m\u001b[0;34m.\u001b[0m\u001b[0m_ensure_session\u001b[0m\u001b[0;34m(\u001b[0m\u001b[0msession\u001b[0m\u001b[0;34m)\u001b[0m\u001b[0;34m\u001b[0m\u001b[0;34m\u001b[0m\u001b[0m\n\u001b[0m\u001b[1;32m   1830\u001b[0m         \u001b[0;32mif\u001b[0m \u001b[0ms\u001b[0m\u001b[0;34m:\u001b[0m\u001b[0;34m\u001b[0m\u001b[0;34m\u001b[0m\u001b[0m\n\u001b[1;32m   1831\u001b[0m             \u001b[0;32mtry\u001b[0m\u001b[0;34m:\u001b[0m\u001b[0;34m\u001b[0m\u001b[0;34m\u001b[0m\u001b[0m\n",
      "\u001b[0;32m/Applications/anaconda3/lib/python3.8/site-packages/pymongo/mongo_client.py\u001b[0m in \u001b[0;36m_ensure_session\u001b[0;34m(self, session)\u001b[0m\n\u001b[1;32m   1814\u001b[0m             \u001b[0;31m# Don't make implicit sessions causally consistent. Applications\u001b[0m\u001b[0;34m\u001b[0m\u001b[0;34m\u001b[0m\u001b[0;34m\u001b[0m\u001b[0m\n\u001b[1;32m   1815\u001b[0m             \u001b[0;31m# should always opt-in.\u001b[0m\u001b[0;34m\u001b[0m\u001b[0;34m\u001b[0m\u001b[0;34m\u001b[0m\u001b[0m\n\u001b[0;32m-> 1816\u001b[0;31m             \u001b[0;32mreturn\u001b[0m \u001b[0mself\u001b[0m\u001b[0;34m.\u001b[0m\u001b[0m__start_session\u001b[0m\u001b[0;34m(\u001b[0m\u001b[0;32mTrue\u001b[0m\u001b[0;34m,\u001b[0m \u001b[0mcausal_consistency\u001b[0m\u001b[0;34m=\u001b[0m\u001b[0;32mFalse\u001b[0m\u001b[0;34m)\u001b[0m\u001b[0;34m\u001b[0m\u001b[0;34m\u001b[0m\u001b[0m\n\u001b[0m\u001b[1;32m   1817\u001b[0m         \u001b[0;32mexcept\u001b[0m \u001b[0;34m(\u001b[0m\u001b[0mConfigurationError\u001b[0m\u001b[0;34m,\u001b[0m \u001b[0mInvalidOperation\u001b[0m\u001b[0;34m)\u001b[0m\u001b[0;34m:\u001b[0m\u001b[0;34m\u001b[0m\u001b[0;34m\u001b[0m\u001b[0m\n\u001b[1;32m   1818\u001b[0m             \u001b[0;31m# Sessions not supported, or multiple users authenticated.\u001b[0m\u001b[0;34m\u001b[0m\u001b[0;34m\u001b[0m\u001b[0;34m\u001b[0m\u001b[0m\n",
      "\u001b[0;32m/Applications/anaconda3/lib/python3.8/site-packages/pymongo/mongo_client.py\u001b[0m in \u001b[0;36m__start_session\u001b[0;34m(self, implicit, **kwargs)\u001b[0m\n\u001b[1;32m   1764\u001b[0m \u001b[0;34m\u001b[0m\u001b[0m\n\u001b[1;32m   1765\u001b[0m         \u001b[0;31m# Raises ConfigurationError if sessions are not supported.\u001b[0m\u001b[0;34m\u001b[0m\u001b[0;34m\u001b[0m\u001b[0;34m\u001b[0m\u001b[0m\n\u001b[0;32m-> 1766\u001b[0;31m         \u001b[0mserver_session\u001b[0m \u001b[0;34m=\u001b[0m \u001b[0mself\u001b[0m\u001b[0;34m.\u001b[0m\u001b[0m_get_server_session\u001b[0m\u001b[0;34m(\u001b[0m\u001b[0;34m)\u001b[0m\u001b[0;34m\u001b[0m\u001b[0;34m\u001b[0m\u001b[0m\n\u001b[0m\u001b[1;32m   1767\u001b[0m         \u001b[0mopts\u001b[0m \u001b[0;34m=\u001b[0m \u001b[0mclient_session\u001b[0m\u001b[0;34m.\u001b[0m\u001b[0mSessionOptions\u001b[0m\u001b[0;34m(\u001b[0m\u001b[0;34m**\u001b[0m\u001b[0mkwargs\u001b[0m\u001b[0;34m)\u001b[0m\u001b[0;34m\u001b[0m\u001b[0;34m\u001b[0m\u001b[0m\n\u001b[1;32m   1768\u001b[0m         return client_session.ClientSession(\n",
      "\u001b[0;32m/Applications/anaconda3/lib/python3.8/site-packages/pymongo/mongo_client.py\u001b[0m in \u001b[0;36m_get_server_session\u001b[0;34m(self)\u001b[0m\n\u001b[1;32m   1800\u001b[0m     \u001b[0;32mdef\u001b[0m \u001b[0m_get_server_session\u001b[0m\u001b[0;34m(\u001b[0m\u001b[0mself\u001b[0m\u001b[0;34m)\u001b[0m\u001b[0;34m:\u001b[0m\u001b[0;34m\u001b[0m\u001b[0;34m\u001b[0m\u001b[0m\n\u001b[1;32m   1801\u001b[0m         \u001b[0;34m\"\"\"Internal: start or resume a _ServerSession.\"\"\"\u001b[0m\u001b[0;34m\u001b[0m\u001b[0;34m\u001b[0m\u001b[0m\n\u001b[0;32m-> 1802\u001b[0;31m         \u001b[0;32mreturn\u001b[0m \u001b[0mself\u001b[0m\u001b[0;34m.\u001b[0m\u001b[0m_topology\u001b[0m\u001b[0;34m.\u001b[0m\u001b[0mget_server_session\u001b[0m\u001b[0;34m(\u001b[0m\u001b[0;34m)\u001b[0m\u001b[0;34m\u001b[0m\u001b[0;34m\u001b[0m\u001b[0m\n\u001b[0m\u001b[1;32m   1803\u001b[0m \u001b[0;34m\u001b[0m\u001b[0m\n\u001b[1;32m   1804\u001b[0m     \u001b[0;32mdef\u001b[0m \u001b[0m_return_server_session\u001b[0m\u001b[0;34m(\u001b[0m\u001b[0mself\u001b[0m\u001b[0;34m,\u001b[0m \u001b[0mserver_session\u001b[0m\u001b[0;34m,\u001b[0m \u001b[0mlock\u001b[0m\u001b[0;34m)\u001b[0m\u001b[0;34m:\u001b[0m\u001b[0;34m\u001b[0m\u001b[0;34m\u001b[0m\u001b[0m\n",
      "\u001b[0;32m/Applications/anaconda3/lib/python3.8/site-packages/pymongo/topology.py\u001b[0m in \u001b[0;36mget_server_session\u001b[0;34m(self)\u001b[0m\n\u001b[1;32m    494\u001b[0m                 \u001b[0;32mif\u001b[0m \u001b[0mself\u001b[0m\u001b[0;34m.\u001b[0m\u001b[0m_description\u001b[0m\u001b[0;34m.\u001b[0m\u001b[0mtopology_type\u001b[0m \u001b[0;34m==\u001b[0m \u001b[0mTOPOLOGY_TYPE\u001b[0m\u001b[0;34m.\u001b[0m\u001b[0mSingle\u001b[0m\u001b[0;34m:\u001b[0m\u001b[0;34m\u001b[0m\u001b[0;34m\u001b[0m\u001b[0m\n\u001b[1;32m    495\u001b[0m                     \u001b[0;32mif\u001b[0m \u001b[0;32mnot\u001b[0m \u001b[0mself\u001b[0m\u001b[0;34m.\u001b[0m\u001b[0m_description\u001b[0m\u001b[0;34m.\u001b[0m\u001b[0mhas_known_servers\u001b[0m\u001b[0;34m:\u001b[0m\u001b[0;34m\u001b[0m\u001b[0;34m\u001b[0m\u001b[0m\n\u001b[0;32m--> 496\u001b[0;31m                         self._select_servers_loop(\n\u001b[0m\u001b[1;32m    497\u001b[0m                             \u001b[0many_server_selector\u001b[0m\u001b[0;34m,\u001b[0m\u001b[0;34m\u001b[0m\u001b[0;34m\u001b[0m\u001b[0m\n\u001b[1;32m    498\u001b[0m                             \u001b[0mself\u001b[0m\u001b[0;34m.\u001b[0m\u001b[0m_settings\u001b[0m\u001b[0;34m.\u001b[0m\u001b[0mserver_selection_timeout\u001b[0m\u001b[0;34m,\u001b[0m\u001b[0;34m\u001b[0m\u001b[0;34m\u001b[0m\u001b[0m\n",
      "\u001b[0;32m/Applications/anaconda3/lib/python3.8/site-packages/pymongo/topology.py\u001b[0m in \u001b[0;36m_select_servers_loop\u001b[0;34m(self, selector, timeout, address)\u001b[0m\n\u001b[1;32m    213\u001b[0m             \u001b[0;31m# No suitable servers.\u001b[0m\u001b[0;34m\u001b[0m\u001b[0;34m\u001b[0m\u001b[0;34m\u001b[0m\u001b[0m\n\u001b[1;32m    214\u001b[0m             \u001b[0;32mif\u001b[0m \u001b[0mtimeout\u001b[0m \u001b[0;34m==\u001b[0m \u001b[0;36m0\u001b[0m \u001b[0;32mor\u001b[0m \u001b[0mnow\u001b[0m \u001b[0;34m>\u001b[0m \u001b[0mend_time\u001b[0m\u001b[0;34m:\u001b[0m\u001b[0;34m\u001b[0m\u001b[0;34m\u001b[0m\u001b[0m\n\u001b[0;32m--> 215\u001b[0;31m                 raise ServerSelectionTimeoutError(\n\u001b[0m\u001b[1;32m    216\u001b[0m                     \u001b[0;34m\"%s, Timeout: %ss, Topology Description: %r\"\u001b[0m \u001b[0;34m%\u001b[0m\u001b[0;34m\u001b[0m\u001b[0;34m\u001b[0m\u001b[0m\n\u001b[1;32m    217\u001b[0m                     (self._error_message(selector), timeout, self.description))\n",
      "\u001b[0;31mServerSelectionTimeoutError\u001b[0m: localhost:27017: [Errno 61] Connection refused, Timeout: 30s, Topology Description: <TopologyDescription id: 60ecc61b4463c0a2b584009b, topology_type: Single, servers: [<ServerDescription ('localhost', 27017) server_type: Unknown, rtt: None, error=AutoReconnect('localhost:27017: [Errno 61] Connection refused')>]>"
     ]
    }
   ],
   "source": [
    "db.sample_training.insert_many(data)"
   ]
  },
  {
   "cell_type": "code",
   "execution_count": null,
   "metadata": {},
   "outputs": [],
   "source": [
    "\n",
    "\n",
    "df = pd.read_csv(\"final.csv\")\n",
    "\n",
    "data = df.to_dict(orient =\"records\")\n",
    "db = client[\"MachineLearning\"]\n",
    "\n",
    "print(db)\n",
    "\n",
    "db.MachineLearning.insert_many(data)"
   ]
  }
 ],
 "metadata": {
  "kernelspec": {
   "name": "python3",
   "display_name": "Python 3.8.5 64-bit ('base': conda)"
  },
  "language_info": {
   "codemirror_mode": {
    "name": "ipython",
    "version": 3
   },
   "file_extension": ".py",
   "mimetype": "text/x-python",
   "name": "python",
   "nbconvert_exporter": "python",
   "pygments_lexer": "ipython3",
   "version": "3.8.5"
  },
  "interpreter": {
   "hash": "344443636c3027c5042750c9c609acdda283a9c43681b128a8c1053e7ad2aa7d"
  }
 },
 "nbformat": 4,
 "nbformat_minor": 4
}